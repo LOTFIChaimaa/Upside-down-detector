{
  "nbformat": 4,
  "nbformat_minor": 0,
  "metadata": {
    "colab": {
      "name": "Upside down detector.ipynb",
      "provenance": [],
      "collapsed_sections": []
    },
    "kernelspec": {
      "name": "python3",
      "display_name": "Python 3"
    },
    "accelerator": "GPU"
  },
  "cells": [
    {
      "cell_type": "markdown",
      "metadata": {
        "id": "Z78SHPArRYRQ"
      },
      "source": [
        "Upside down detector: Train a model to detect if images are upside down\n",
        "\n",
        "---\n",
        "\n"
      ]
    },
    {
      "cell_type": "markdown",
      "metadata": {
        "id": "eN-epSVb42os"
      },
      "source": [
        "Librairies that we'll need for our model."
      ]
    },
    {
      "cell_type": "code",
      "metadata": {
        "id": "VKjMza637zhi"
      },
      "source": [
        "from tensorflow.keras.preprocessing.image import ImageDataGenerator #give a label to them automatically\n",
        "from tensorflow.keras.preprocessing import image\n",
        "import matplotlib.pyplot as plt\n",
        "import tensorflow as tf\n",
        "import numpy as np\n",
        "import cv2\n",
        "import os"
      ],
      "execution_count": null,
      "outputs": []
    },
    {
      "cell_type": "markdown",
      "metadata": {
        "id": "-ZT13BKd5DSO"
      },
      "source": [
        "I chose the cifar10 as a dataset"
      ]
    },
    {
      "cell_type": "code",
      "metadata": {
        "id": "OkxLLzKL79_G"
      },
      "source": [
        "(X_train, labels_train),  (X_test, labels_test) = tf.keras.datasets.cifar10.load_data()"
      ],
      "execution_count": null,
      "outputs": []
    },
    {
      "cell_type": "code",
      "metadata": {
        "colab": {
          "base_uri": "https://localhost:8080/"
        },
        "id": "2609LWvKSY6Q",
        "outputId": "c0cfe3e3-7f9d-4cd6-da5e-11a08fc65f6e"
      },
      "source": [
        "X_train.shape"
      ],
      "execution_count": null,
      "outputs": [
        {
          "output_type": "execute_result",
          "data": {
            "text/plain": [
              "(50000, 32, 32, 3)"
            ]
          },
          "metadata": {
            "tags": []
          },
          "execution_count": 66
        }
      ]
    },
    {
      "cell_type": "code",
      "metadata": {
        "id": "fDnkX0hHRdDY"
      },
      "source": [
        "# I choose to work on one category of cifar10's data.\n",
        "index = np.where(labels_train == 0)\n",
        "X_train = X_train[index[0]]\n",
        "index = np.where(labels_test == 0)\n",
        "X_test = X_test[index[0]]"
      ],
      "execution_count": null,
      "outputs": []
    },
    {
      "cell_type": "code",
      "metadata": {
        "colab": {
          "base_uri": "https://localhost:8080/"
        },
        "id": "fMmBrbvtSYkE",
        "outputId": "f96479e9-e4a3-4f9e-85b1-7c2406252c77"
      },
      "source": [
        "X_train.shape"
      ],
      "execution_count": null,
      "outputs": [
        {
          "output_type": "execute_result",
          "data": {
            "text/plain": [
              "(5000, 32, 32, 3)"
            ]
          },
          "metadata": {
            "tags": []
          },
          "execution_count": 68
        }
      ]
    },
    {
      "cell_type": "code",
      "metadata": {
        "id": "sJvl937m8Fsm"
      },
      "source": [
        "from sklearn.model_selection import train_test_split\n",
        "#when creating the vector labels, I have to give the % of 1s or 0s, so it's better to introduce a variable, so as not to change everything every time\n",
        "n = 0.4\n",
        "n1 = 0.3\n",
        "X_trainUp, X_trainDown = train_test_split(X_train, test_size= n,shuffle=False) # n % upside images.\n",
        "X_testUp, X_testDown = train_test_split(X_test, test_size= n1,shuffle=False) # n1 % upside images."
      ],
      "execution_count": null,
      "outputs": []
    },
    {
      "cell_type": "code",
      "metadata": {
        "colab": {
          "base_uri": "https://localhost:8080/"
        },
        "id": "M3XD7SwHDMcY",
        "outputId": "dc6593cc-ae22-4cb1-f4b6-3e5f25c56ed4"
      },
      "source": [
        "len(X_trainDown)"
      ],
      "execution_count": null,
      "outputs": [
        {
          "output_type": "execute_result",
          "data": {
            "text/plain": [
              "2000"
            ]
          },
          "metadata": {
            "tags": []
          },
          "execution_count": 70
        }
      ]
    },
    {
      "cell_type": "code",
      "metadata": {
        "colab": {
          "base_uri": "https://localhost:8080/"
        },
        "id": "WxXWhyQwAzpW",
        "outputId": "738027c4-bf91-424c-dc18-8c3f174673aa"
      },
      "source": [
        "!pip install tensorflow_addons #This library has an efficient method to rotate my images "
      ],
      "execution_count": null,
      "outputs": [
        {
          "output_type": "stream",
          "text": [
            "Requirement already satisfied: tensorflow_addons in /usr/local/lib/python3.7/dist-packages (0.12.1)\n",
            "Requirement already satisfied: typeguard>=2.7 in /usr/local/lib/python3.7/dist-packages (from tensorflow_addons) (2.7.1)\n"
          ],
          "name": "stdout"
        }
      ]
    },
    {
      "cell_type": "code",
      "metadata": {
        "id": "Jpk_k1A-BFmr"
      },
      "source": [
        "import tensorflow_addons as tfa\n",
        "import math\n",
        "X_trainDown = tfa.image.transform_ops.rotate(X_trainDown, math.pi)\n",
        "X_testDown = tfa.image.transform_ops.rotate(X_testDown, math.pi)"
      ],
      "execution_count": null,
      "outputs": []
    },
    {
      "cell_type": "code",
      "metadata": {
        "colab": {
          "base_uri": "https://localhost:8080/"
        },
        "id": "MvMTciTCu0UI",
        "outputId": "a37bd103-d233-4d72-c33d-62706cbd7f13"
      },
      "source": [
        "len(X_testDown)"
      ],
      "execution_count": null,
      "outputs": [
        {
          "output_type": "execute_result",
          "data": {
            "text/plain": [
              "300"
            ]
          },
          "metadata": {
            "tags": []
          },
          "execution_count": 73
        }
      ]
    },
    {
      "cell_type": "code",
      "metadata": {
        "colab": {
          "base_uri": "https://localhost:8080/",
          "height": 229
        },
        "id": "8U3vR56L9Vuq",
        "outputId": "8389dbf3-9516-4c42-e69c-79536bd89f31"
      },
      "source": [
        "plt.figure(figsize = (30,3))\n",
        "plt.imshow(X_testDown[5])"
      ],
      "execution_count": null,
      "outputs": [
        {
          "output_type": "execute_result",
          "data": {
            "text/plain": [
              "<matplotlib.image.AxesImage at 0x7f5e843cf750>"
            ]
          },
          "metadata": {
            "tags": []
          },
          "execution_count": 74
        },
        {
          "output_type": "display_data",
          "data": {
            "image/png": "[encoded data removed]",
            "text/plain": [
              "<Figure size 2160x216 with 1 Axes>"
            ]
          },
          "metadata": {
            "tags": [],
            "needs_background": "light"
          }
        }
      ]
    },
    {
      "cell_type": "code",
      "metadata": {
        "id": "t9Gm6BxgCXU0"
      },
      "source": [
        "X_train = np.concatenate((X_trainUp,X_trainDown)) # concatenate upside down images with the normal ones.\n",
        "X_test = np.concatenate((X_testUp,X_testDown)) # concatenate upside down images with the normal ones."
      ],
      "execution_count": null,
      "outputs": []
    },
    {
      "cell_type": "code",
      "metadata": {
        "id": "yxxIO6uqCDc1"
      },
      "source": [
        "L1 = [0 for i in range(int(5000*n))]\n",
        "L2 = [1 for i in range( int( 5000*(1-n)))] # we will sort the labels in the ordre of data for Up (ones) for down (zeros)\n",
        "L = np.concatenate((L2,L1)) #labeling my data training, ones for upside down images, zeros for normal pictures.\n",
        "\n",
        "Ltest1 = [0 for i in range(int(1000 * n1))]\n",
        "Ltest2 = [1 for i in range(int(1000 * (1-n1)))]\n",
        "labelsTest = np.concatenate((Ltest2,Ltest1)) #labeling my data test, ones for upside down images, zeros for normal pictures."
      ],
      "execution_count": null,
      "outputs": []
    },
    {
      "cell_type": "code",
      "metadata": {
        "id": "krzSa6oCEHT1"
      },
      "source": [
        "import random\n",
        "from random import shuffle\n",
        "import copy \n",
        "ll = [i for i in range(5000)]\n",
        "shuffle(ll,random.random) #mixing my data\n",
        "\n",
        "labels = L[ll]\n",
        "X_train_shuff = copy.deepcopy(X_train)[ll]\n",
        "\n",
        "Listest = [i for i in range(1000)]\n",
        "shuffle(Listest,random.random) #mixing my data\n",
        "\n",
        "labelsTest = labelsTest[Listest]\n",
        "X_test_shuff = copy.deepcopy(X_test)[Listest]"
      ],
      "execution_count": null,
      "outputs": []
    },
    {
      "cell_type": "code",
      "metadata": {
        "id": "KkoGpHhvJk3Q",
        "colab": {
          "base_uri": "https://localhost:8080/",
          "height": 229
        },
        "outputId": "cc7bd7b0-3640-47ef-c29d-5f368168c2e3"
      },
      "source": [
        "plt.figure(figsize = (30,3))\n",
        "plt.imshow(X_train_shuff[1])\n",
        "print(labels[1])"
      ],
      "execution_count": null,
      "outputs": [
        {
          "output_type": "stream",
          "text": [
            "1\n"
          ],
          "name": "stdout"
        },
        {
          "output_type": "display_data",
          "data": {
            "image/png": "[encoded data removed]",
            "text/plain": [
              "<Figure size 2160x216 with 1 Axes>"
            ]
          },
          "metadata": {
            "tags": [],
            "needs_background": "light"
          }
        }
      ]
    },
    {
      "cell_type": "code",
      "metadata": {
        "colab": {
          "base_uri": "https://localhost:8080/",
          "height": 229
        },
        "id": "fVLArKAkIfac",
        "outputId": "d4c625e8-649c-426f-a76c-65e7ffa3882e"
      },
      "source": [
        "plt.figure(figsize = (30,3))\n",
        "plt.imshow(X_train_shuff[ll[3]])\n",
        "print(labels[3])"
      ],
      "execution_count": null,
      "outputs": [
        {
          "output_type": "stream",
          "text": [
            "1\n"
          ],
          "name": "stdout"
        },
        {
          "output_type": "display_data",
          "data": {
            "image/png": "[encoded data removed]",
            "text/plain": [
              "<Figure size 2160x216 with 1 Axes>"
            ]
          },
          "metadata": {
            "tags": [],
            "needs_background": "light"
          }
        }
      ]
    },
    {
      "cell_type": "code",
      "metadata": {
        "id": "cJb0dzflGKkx"
      },
      "source": [
        "# Normolizing pixel to floating values between 0 and 1\n",
        "X_train_shuff = X_train_shuff/255.0\n",
        "X_test_shuff = X_test_shuff/255.0"
      ],
      "execution_count": null,
      "outputs": []
    },
    {
      "cell_type": "code",
      "metadata": {
        "id": "ZKmdIvR2Llal",
        "colab": {
          "base_uri": "https://localhost:8080/"
        },
        "outputId": "e72b0b80-414a-483e-c84a-c5cc03298a49"
      },
      "source": [
        "# Defining our model\n",
        "from tensorflow.keras import datasets, layers, models\n",
        "model = models.Sequential()\n",
        "model.add(layers.Conv2D(32, (3, 3), activation='relu', input_shape=(32, 32, 3)))\n",
        "model.add(layers.MaxPooling2D((2, 2)))\n",
        "model.add(layers.Conv2D(64, (3, 3), activation='relu'))\n",
        "model.add(layers.MaxPooling2D((2, 2)))\n",
        "model.add(layers.Conv2D(120, (3, 3), activation='relu'))\n",
        "model.add(layers.MaxPooling2D((2, 2)))\n",
        "model.add(layers.Flatten())\n",
        "model.add(layers.Dense(512, activation='relu'))\n",
        "model.add(layers.Dense(128, activation='relu'))\n",
        "model.add(layers.Dense(64, activation='sigmoid'))\n",
        "model.add(layers.Dense(2))\n",
        "model.summary()"
      ],
      "execution_count": null,
      "outputs": [
        {
          "output_type": "stream",
          "text": [
            "Model: \"sequential_3\"\n",
            "_________________________________________________________________\n",
            "Layer (type)                 Output Shape              Param #   \n",
            "=================================================================\n",
            "conv2d_9 (Conv2D)            (None, 30, 30, 32)        896       \n",
            "_________________________________________________________________\n",
            "max_pooling2d_9 (MaxPooling2 (None, 15, 15, 32)        0         \n",
            "_________________________________________________________________\n",
            "conv2d_10 (Conv2D)           (None, 13, 13, 64)        18496     \n",
            "_________________________________________________________________\n",
            "max_pooling2d_10 (MaxPooling (None, 6, 6, 64)          0         \n",
            "_________________________________________________________________\n",
            "conv2d_11 (Conv2D)           (None, 4, 4, 120)         69240     \n",
            "_________________________________________________________________\n",
            "max_pooling2d_11 (MaxPooling (None, 2, 2, 120)         0         \n",
            "_________________________________________________________________\n",
            "flatten_3 (Flatten)          (None, 480)               0         \n",
            "_________________________________________________________________\n",
            "dense_12 (Dense)             (None, 512)               246272    \n",
            "_________________________________________________________________\n",
            "dense_13 (Dense)             (None, 128)               65664     \n",
            "_________________________________________________________________\n",
            "dense_14 (Dense)             (None, 64)                8256      \n",
            "_________________________________________________________________\n",
            "dense_15 (Dense)             (None, 2)                 130       \n",
            "=================================================================\n",
            "Total params: 408,954\n",
            "Trainable params: 408,954\n",
            "Non-trainable params: 0\n",
            "_________________________________________________________________\n"
          ],
          "name": "stdout"
        }
      ]
    },
    {
      "cell_type": "code",
      "metadata": {
        "colab": {
          "base_uri": "https://localhost:8080/"
        },
        "id": "FXfqXSmTSDmI",
        "outputId": "8d768acf-72a7-44c6-9516-51cba8161996"
      },
      "source": [
        "from tensorflow.keras.losses import sparse_categorical_crossentropy\n",
        "from tensorflow.keras.optimizers import Adam\n",
        "model.compile(loss= sparse_categorical_crossentropy,\n",
        "              optimizer= tf.keras.optimizers.RMSprop(lr=2e-5), #Adam(),\n",
        "             metrics=['acc'])\n",
        "\n",
        "history = model.fit(X_train_shuff, labels, epochs=30, \n",
        "                    validation_data=(X_test_shuff, labelsTest))"
      ],
      "execution_count": null,
      "outputs": [
        {
          "output_type": "stream",
          "text": [
            "Epoch 1/30\n",
            "157/157 [==============================] - 2s 6ms/step - loss: 0.6681 - acc: 0.6069 - val_loss: 0.6178 - val_acc: 0.7000\n",
            "Epoch 2/30\n",
            "157/157 [==============================] - 1s 5ms/step - loss: 0.6564 - acc: 0.5878 - val_loss: 0.5642 - val_acc: 0.7000\n",
            "Epoch 3/30\n",
            "157/157 [==============================] - 1s 5ms/step - loss: 0.6136 - acc: 0.5938 - val_loss: 0.5447 - val_acc: 0.7090\n",
            "Epoch 4/30\n",
            "157/157 [==============================] - 1s 5ms/step - loss: 0.5758 - acc: 0.6209 - val_loss: 0.5426 - val_acc: 0.7590\n",
            "Epoch 5/30\n",
            "157/157 [==============================] - 1s 5ms/step - loss: 0.5751 - acc: 0.6539 - val_loss: 0.5983 - val_acc: 0.7490\n",
            "Epoch 6/30\n",
            "157/157 [==============================] - 1s 5ms/step - loss: 0.5701 - acc: 0.6715 - val_loss: 0.5713 - val_acc: 0.7700\n",
            "Epoch 7/30\n",
            "157/157 [==============================] - 1s 5ms/step - loss: 0.5613 - acc: 0.6918 - val_loss: 0.5555 - val_acc: 0.7710\n",
            "Epoch 8/30\n",
            "157/157 [==============================] - 1s 5ms/step - loss: 0.5957 - acc: 0.6895 - val_loss: 0.5391 - val_acc: 0.7790\n",
            "Epoch 9/30\n",
            "157/157 [==============================] - 1s 5ms/step - loss: 0.5386 - acc: 0.7031 - val_loss: 0.5248 - val_acc: 0.7820\n",
            "Epoch 10/30\n",
            "157/157 [==============================] - 1s 5ms/step - loss: 0.5392 - acc: 0.7042 - val_loss: 0.5297 - val_acc: 0.7870\n",
            "Epoch 11/30\n",
            "157/157 [==============================] - 1s 5ms/step - loss: 0.5439 - acc: 0.7061 - val_loss: 0.5411 - val_acc: 0.7840\n",
            "Epoch 12/30\n",
            "157/157 [==============================] - 1s 5ms/step - loss: 0.5359 - acc: 0.7186 - val_loss: 0.5304 - val_acc: 0.7960\n",
            "Epoch 13/30\n",
            "157/157 [==============================] - 1s 5ms/step - loss: 0.5352 - acc: 0.7238 - val_loss: 0.5518 - val_acc: 0.7850\n",
            "Epoch 14/30\n",
            "157/157 [==============================] - 1s 5ms/step - loss: 0.5294 - acc: 0.7238 - val_loss: 0.5194 - val_acc: 0.8030\n",
            "Epoch 15/30\n",
            "157/157 [==============================] - 1s 5ms/step - loss: 0.5174 - acc: 0.7280 - val_loss: 0.5361 - val_acc: 0.7910\n",
            "Epoch 16/30\n",
            "157/157 [==============================] - 1s 5ms/step - loss: 0.5294 - acc: 0.7322 - val_loss: 0.5407 - val_acc: 0.7960\n",
            "Epoch 17/30\n",
            "157/157 [==============================] - 1s 5ms/step - loss: 0.5452 - acc: 0.7326 - val_loss: 0.5140 - val_acc: 0.8090\n",
            "Epoch 18/30\n",
            "157/157 [==============================] - 1s 5ms/step - loss: 0.5388 - acc: 0.7391 - val_loss: 0.5329 - val_acc: 0.7940\n",
            "Epoch 19/30\n",
            "157/157 [==============================] - 1s 5ms/step - loss: 0.5345 - acc: 0.7415 - val_loss: 0.5340 - val_acc: 0.7940\n",
            "Epoch 20/30\n",
            "157/157 [==============================] - 1s 5ms/step - loss: 0.5166 - acc: 0.7459 - val_loss: 0.5448 - val_acc: 0.7990\n",
            "Epoch 21/30\n",
            "157/157 [==============================] - 1s 5ms/step - loss: 0.5221 - acc: 0.7429 - val_loss: 0.5413 - val_acc: 0.7990\n",
            "Epoch 22/30\n",
            "157/157 [==============================] - 1s 5ms/step - loss: 0.5315 - acc: 0.7442 - val_loss: 0.5405 - val_acc: 0.7980\n",
            "Epoch 23/30\n",
            "157/157 [==============================] - 1s 5ms/step - loss: 0.5264 - acc: 0.7529 - val_loss: 0.5395 - val_acc: 0.8060\n",
            "Epoch 24/30\n",
            "157/157 [==============================] - 1s 5ms/step - loss: 0.5172 - acc: 0.7557 - val_loss: 0.5405 - val_acc: 0.8050\n",
            "Epoch 25/30\n",
            "157/157 [==============================] - 1s 5ms/step - loss: 0.5231 - acc: 0.7634 - val_loss: 0.5439 - val_acc: 0.8080\n",
            "Epoch 26/30\n",
            "157/157 [==============================] - 1s 5ms/step - loss: 0.5288 - acc: 0.7546 - val_loss: 0.5406 - val_acc: 0.8070\n",
            "Epoch 27/30\n",
            "157/157 [==============================] - 1s 5ms/step - loss: 0.5489 - acc: 0.7523 - val_loss: 0.5433 - val_acc: 0.8060\n",
            "Epoch 28/30\n",
            "157/157 [==============================] - 1s 5ms/step - loss: 0.5345 - acc: 0.7564 - val_loss: 0.5380 - val_acc: 0.8070\n",
            "Epoch 29/30\n",
            "157/157 [==============================] - 1s 5ms/step - loss: 0.4975 - acc: 0.7690 - val_loss: 0.5402 - val_acc: 0.8070\n",
            "Epoch 30/30\n",
            "157/157 [==============================] - 1s 5ms/step - loss: 0.5236 - acc: 0.7632 - val_loss: 0.5841 - val_acc: 0.8040\n"
          ],
          "name": "stdout"
        }
      ]
    },
    {
      "cell_type": "code",
      "metadata": {
        "colab": {
          "base_uri": "https://localhost:8080/",
          "height": 296
        },
        "id": "-QcH-SbYV1uE",
        "outputId": "a007eaab-aee9-4fd8-ce6b-f3829ff2457e"
      },
      "source": [
        "plt.plot(history.history['acc'], label='acc')\n",
        "plt.plot(history.history['val_acc'], label = 'val_acc')\n",
        "plt.xlabel('Epoch')\n",
        "plt.ylabel('Accuracy')\n",
        "plt.legend(loc='lower right')"
      ],
      "execution_count": null,
      "outputs": [
        {
          "output_type": "execute_result",
          "data": {
            "text/plain": [
              "<matplotlib.legend.Legend at 0x7f5e84083250>"
            ]
          },
          "metadata": {
            "tags": []
          },
          "execution_count": 83
        },
        {
          "output_type": "display_data",
          "data": {
            "image/png": "[encoded data removed]",
            "text/plain": [
              "<Figure size 432x288 with 1 Axes>"
            ]
          },
          "metadata": {
            "tags": [],
            "needs_background": "light"
          }
        }
      ]
    },
    {
      "cell_type": "code",
      "metadata": {
        "colab": {
          "base_uri": "https://localhost:8080/"
        },
        "id": "lLnk3_CXWFJW",
        "outputId": "3a239a1d-9471-46c7-c05f-3f9adcdc3437"
      },
      "source": [
        "# Model evaluation\n",
        "scores = model.evaluate(X_test_shuff, labelsTest, verbose=0)\n",
        "print(\"Accuracy: %.2f%%\" % (scores[1]*100))"
      ],
      "execution_count": null,
      "outputs": [
        {
          "output_type": "stream",
          "text": [
            "Accuracy: 80.40%\n"
          ],
          "name": "stdout"
        }
      ]
    },
    {
      "cell_type": "markdown",
      "metadata": {
        "id": "18rJ17KEqWHX"
      },
      "source": [
        "One idea that I have to improve my code is to add a third category that contain symmetric images.\n",
        "First, I tried to do the assignment with a small data, using some personal images, I had to use method to recover the images from the folders. So it was a little bit different from this. I got 96% in the accuracy.\n",
        "\n",
        "With this model the validation accuracy reaches 80.40% while training accuracy almost reaches 91%. \n",
        "\n",
        "You find in this link a screenshot of this result https://drive.google.com/file/d/1eJVI77pW6LmLrTR69qUyQ2gVenKgOYwi/view?usp=sharing\n",
        "\n"
      ]
    }
  ]
}